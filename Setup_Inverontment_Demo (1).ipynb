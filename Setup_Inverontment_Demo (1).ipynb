{
  "nbformat": 4,
  "nbformat_minor": 0,
  "metadata": {
    "colab": {
      "provenance": []
    },
    "kernelspec": {
      "name": "python3",
      "display_name": "Python 3"
    },
    "language_info": {
      "name": "python"
    }
  },
  "cells": [
    {
      "cell_type": "code",
      "execution_count": 5,
      "metadata": {
        "colab": {
          "base_uri": "https://localhost:8080/",
          "height": 297
        },
        "id": "vNSTpeyxrRjM",
        "outputId": "c094dcd5-060a-451d-da8c-f20b250bb5de"
      },
      "outputs": [
        {
          "output_type": "stream",
          "name": "stdout",
          "text": [
            "Cloning into '2513201004-data-mining'...\n",
            "remote: Enumerating objects: 16, done.\u001b[K\n",
            "remote: Counting objects: 100% (16/16), done.\u001b[K\n",
            "remote: Compressing objects: 100% (10/10), done.\u001b[K\n",
            "remote: Total 16 (delta 0), reused 0 (delta 0), pack-reused 0 (from 0)\u001b[K\n",
            "Receiving objects: 100% (16/16), 5.33 KiB | 5.33 MiB/s, done.\n",
            "Hello, Data Mining!\n"
          ]
        },
        {
          "output_type": "error",
          "ename": "AttributeError",
          "evalue": "module 'pandas' has no attribute '_version_'",
          "traceback": [
            "\u001b[0;31m---------------------------------------------------------------------------\u001b[0m",
            "\u001b[0;31mAttributeError\u001b[0m                            Traceback (most recent call last)",
            "\u001b[0;32m/tmp/ipython-input-2608859089.py\u001b[0m in \u001b[0;36m<cell line: 0>\u001b[0;34m()\u001b[0m\n\u001b[1;32m      2\u001b[0m \u001b[0mprint\u001b[0m\u001b[0;34m(\u001b[0m\u001b[0;34m\"Hello, Data Mining!\"\u001b[0m\u001b[0;34m)\u001b[0m\u001b[0;34m\u001b[0m\u001b[0;34m\u001b[0m\u001b[0m\n\u001b[1;32m      3\u001b[0m \u001b[0;32mimport\u001b[0m \u001b[0mpandas\u001b[0m \u001b[0;32mas\u001b[0m \u001b[0mpd\u001b[0m\u001b[0;34m\u001b[0m\u001b[0;34m\u001b[0m\u001b[0m\n\u001b[0;32m----> 4\u001b[0;31m \u001b[0mprint\u001b[0m\u001b[0;34m(\u001b[0m\u001b[0;34m\"Versi pandas yang terinstall : \"\u001b[0m\u001b[0;34m,\u001b[0m \u001b[0mpd\u001b[0m\u001b[0;34m.\u001b[0m\u001b[0m_version_\u001b[0m\u001b[0;34m)\u001b[0m\u001b[0;34m\u001b[0m\u001b[0;34m\u001b[0m\u001b[0m\n\u001b[0m",
            "\u001b[0;31mAttributeError\u001b[0m: module 'pandas' has no attribute '_version_'"
          ]
        }
      ],
      "source": [
        "!git clone https://github.com/ilhamirevi29-droid/2513201004-data-mining.git\n",
        "print(\"Hello, Data Mining!\")\n",
        "import pandas as pd\n",
        "print(\"Versi pandas yang terinstall : \", pd._version_)"
      ]
    },
    {
      "cell_type": "code",
      "source": [
        "{\n",
        "  \"nbformat\": 4,\n",
        "  \"nbformat_minor\": 0,\n",
        "  \"metadata\": {\n",
        "    \"colab\": {\n",
        "      \"provenance\": []\n",
        "    },\n",
        "    \"kernelspec\": {\n",
        "      \"name\": \"python3\",\n",
        "      \"display_name\": \"Python 3\"\n",
        "    },\n",
        "    \"language_info\": {\n",
        "      \"name\": \"python\"\n",
        "    }\n",
        "  },\n",
        "  \"cells\": [\n",
        "    {\n",
        "      \"cell_type\": \"code\",\n",
        "      \"execution_count\": 4,\n",
        "      \"metadata\": {\n",
        "        \"colab\": {\n",
        "          \"base_uri\": \"https://localhost:8080/\",\n",
        "          \"height\": 228\n",
        "        },\n",
        "        \"id\": \"vNSTpeyxrRjM\",\n",
        "        \"outputId\": \"5a34e6cd-a2b3-4a00-da5f-0a9a9b473d0c\"\n",
        "      },\n",
        "      \"outputs\": [\n",
        "        {\n",
        "          \"output_type\": \"stream\",\n",
        "          \"name\": \"stdout\",\n",
        "          \"text\": [\n",
        "            \"/bin/bash: -c: line 1: syntax error near unexpected token `newline'\\n\",\n",
        "            \"/bin/bash: -c: line 1: `git clone<https://github.com/ilhamirevi29-droid/2513201004-data-mining.git>'\\n\",\n",
        "            \"Hello, Data Mining!\\n\"\n",
        "          ]\n",
        "        },\n",
        "        {\n",
        "          \"output_type\": \"error\",\n",
        "          \"ename\": \"AttributeError\",\n",
        "          \"evalue\": \"module 'pandas' has no attribute '_version_'\",\n",
        "          \"traceback\": [\n",
        "            \"\\u001b[0;31m---------------------------------------------------------------------------\\u001b[0m\",\n",
        "            \"\\u001b[0;31mAttributeError\\u001b[0m                            Traceback (most recent call last)\",\n",
        "            \"\\u001b[0;32m/tmp/ipython-input-3978624956.py\\u001b[0m in \\u001b[0;36m<cell line: 0>\\u001b[0;34m()\\u001b[0m\\n\\u001b[1;32m      2\\u001b[0m \\u001b[0mprint\\u001b[0m\\u001b[0;34m(\\u001b[0m\\u001b[0;34m\\\"Hello, Data Mining!\\\"\\u001b[0m\\u001b[0;34m)\\u001b[0m\\u001b[0;34m\\u001b[0m\\u001b[0;34m\\u001b[0m\\u001b[0m\\n\\u001b[1;32m      3\\u001b[0m \\u001b[0;32mimport\\u001b[0m \\u001b[0mpandas\\u001b[0m \\u001b[0;32mas\\u001b[0m \\u001b[0mpd\\u001b[0m\\u001b[0;34m\\u001b[0m\\u001b[0;34m\\u001b[0m\\u001b[0m\\n\\u001b[0;32m----> 4\\u001b[0;31m \\u001b[0mprint\\u001b[0m\\u001b[0;34m(\\u001b[0m\\u001b[0;34m\\\"Versi pandas yang terinstall : \\\"\\u001b[0m\\u001b[0;34m,\\u001b[0m \\u001b[0mpd\\u001b[0m\\u001b[0;34m.\\u001b[0m\\u001b[0m_version_\\u001b[0m\\u001b[0;34m)\\u001b[0m\\u001b[0;34m\\u001b[0m\\u001b[0;34m\\u001b[0m\\u001b[0m\\n\\u001b[0m\",\n",
        "            \"\\u001b[0;31mAttributeError\\u001b[0m: module 'pandas' has no attribute '_version_'\"\n",
        "          ]\n",
        "        }\n",
        "      ],\n",
        "      \"source\": [\n",
        "        \"!git clone<https://github.com/ilhamirevi29-droid/2513201004-data-mining.git>\\n\",\n",
        "        \"print(\\\"Hello, Data Mining!\\\")\\n\",\n",
        "        \"import pandas as pd\\n\",\n",
        "        \"print(\\\"Versi pandas yang terinstall : \\\", pd._version_)\"\n",
        "      ]\n",
        "    }\n",
        "  ]\n",
        "}"
      ],
      "metadata": {
        "colab": {
          "base_uri": "https://localhost:8080/"
        },
        "id": "xmRJC9M7uKT7",
        "outputId": "42e7076b-16bc-405f-b069-41a5cf3ec6fa"
      },
      "execution_count": 6,
      "outputs": [
        {
          "output_type": "execute_result",
          "data": {
            "text/plain": [
              "{'nbformat': 4,\n",
              " 'nbformat_minor': 0,\n",
              " 'metadata': {'colab': {'provenance': []},\n",
              "  'kernelspec': {'name': 'python3', 'display_name': 'Python 3'},\n",
              "  'language_info': {'name': 'python'}},\n",
              " 'cells': [{'cell_type': 'code',\n",
              "   'execution_count': 4,\n",
              "   'metadata': {'colab': {'base_uri': 'https://localhost:8080/',\n",
              "     'height': 228},\n",
              "    'id': 'vNSTpeyxrRjM',\n",
              "    'outputId': '5a34e6cd-a2b3-4a00-da5f-0a9a9b473d0c'},\n",
              "   'outputs': [{'output_type': 'stream',\n",
              "     'name': 'stdout',\n",
              "     'text': [\"/bin/bash: -c: line 1: syntax error near unexpected token `newline'\\n\",\n",
              "      \"/bin/bash: -c: line 1: `git clone<https://github.com/ilhamirevi29-droid/2513201004-data-mining.git>'\\n\",\n",
              "      'Hello, Data Mining!\\n']},\n",
              "    {'output_type': 'error',\n",
              "     'ename': 'AttributeError',\n",
              "     'evalue': \"module 'pandas' has no attribute '_version_'\",\n",
              "     'traceback': ['\\x1b[0;31m---------------------------------------------------------------------------\\x1b[0m',\n",
              "      '\\x1b[0;31mAttributeError\\x1b[0m                            Traceback (most recent call last)',\n",
              "      '\\x1b[0;32m/tmp/ipython-input-3978624956.py\\x1b[0m in \\x1b[0;36m<cell line: 0>\\x1b[0;34m()\\x1b[0m\\n\\x1b[1;32m      2\\x1b[0m \\x1b[0mprint\\x1b[0m\\x1b[0;34m(\\x1b[0m\\x1b[0;34m\"Hello, Data Mining!\"\\x1b[0m\\x1b[0;34m)\\x1b[0m\\x1b[0;34m\\x1b[0m\\x1b[0;34m\\x1b[0m\\x1b[0m\\n\\x1b[1;32m      3\\x1b[0m \\x1b[0;32mimport\\x1b[0m \\x1b[0mpandas\\x1b[0m \\x1b[0;32mas\\x1b[0m \\x1b[0mpd\\x1b[0m\\x1b[0;34m\\x1b[0m\\x1b[0;34m\\x1b[0m\\x1b[0m\\n\\x1b[0;32m----> 4\\x1b[0;31m \\x1b[0mprint\\x1b[0m\\x1b[0;34m(\\x1b[0m\\x1b[0;34m\"Versi pandas yang terinstall : \"\\x1b[0m\\x1b[0;34m,\\x1b[0m \\x1b[0mpd\\x1b[0m\\x1b[0;34m.\\x1b[0m\\x1b[0m_version_\\x1b[0m\\x1b[0;34m)\\x1b[0m\\x1b[0;34m\\x1b[0m\\x1b[0;34m\\x1b[0m\\x1b[0m\\n\\x1b[0m',\n",
              "      \"\\x1b[0;31mAttributeError\\x1b[0m: module 'pandas' has no attribute '_version_'\"]}],\n",
              "   'source': ['!git clone<https://github.com/ilhamirevi29-droid/2513201004-data-mining.git>\\n',\n",
              "    'print(\"Hello, Data Mining!\")\\n',\n",
              "    'import pandas as pd\\n',\n",
              "    'print(\"Versi pandas yang terinstall : \", pd._version_)']}]}"
            ]
          },
          "metadata": {},
          "execution_count": 6
        }
      ]
    }
  ]
}